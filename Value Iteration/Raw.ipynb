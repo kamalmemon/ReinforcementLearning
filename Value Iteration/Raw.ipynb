{
 "cells": [
  {
   "cell_type": "code",
   "execution_count": 1,
   "metadata": {},
   "outputs": [],
   "source": [
    "import numpy as np\n",
    "from time import sleep\n",
    "from sailing import SailingGridworld\n",
    "import random\n",
    "\n",
    "\n",
    "gamma = 0.9\n",
    "\n",
    "# Set up the environment\n",
    "env = SailingGridworld(rock_penalty=-2)\n",
    "state = env.reset()\n",
    "\n",
    "# TODO: Compute value function and policy.\n",
    "value_est, policy = np.zeros((env.w, env.h)), np.zeros((env.w, env.h)),"
   ]
  },
  {
   "cell_type": "code",
   "execution_count": 6,
   "metadata": {},
   "outputs": [
    {
     "data": {
      "text/plain": [
       "array([list([((1, 9), 0.0, 0.0, 0.05), ((0, 8), 0.0, 0.0, 0.05), ((1, 8), 0.0, 0.0, 0.9)]),\n",
       "       list([((1, 8), 0.0, 0.0, 0.05), ((1, 7), 0.0, 0.0, 0.05), ((0, 8), 0.0, 0.0, 0.9)]),\n",
       "       list([((0, 8), 0.0, 0.0, 0.05), ((2, 8), 0.0, 0.0, 0.05), ((1, 7), 0.0, 0.0, 0.9)]),\n",
       "       list([((1, 7), 0.0, 0.0, 0.05), ((1, 9), 0.0, 0.0, 0.05), ((2, 8), 0.0, 0.0, 0.9)]),\n",
       "       list([((2, 8), 0.0, 0.0, 0.05), ((1, 8), 0.0, 0.0, 0.05), ((1, 9), 0.0, 0.0, 0.9)])],\n",
       "      dtype=object)"
      ]
     },
     "execution_count": 6,
     "metadata": {},
     "output_type": "execute_result"
    }
   ],
   "source": [
    "for a in env.transitions[state[0], state[1]]:\n",
    "    "
   ]
  },
  {
   "cell_type": "code",
   "execution_count": 2,
   "metadata": {},
   "outputs": [],
   "source": [
    "def action_values(state, V):\n",
    "        A = np.zeros(env.NO_ACTIONS)\n",
    "        for a in range(env.NO_ACTIONS):\n",
    "            for next_state, reward, done, prob in env.transitions[state[0], state[1],  a]:\n",
    "                #print(prob * (reward + gamma * V[next_state]))\n",
    "                A[a] += prob * (reward + gamma * V[next_state] if not done else 0)\n",
    "        return A"
   ]
  },
  {
   "cell_type": "code",
   "execution_count": 3,
   "metadata": {},
   "outputs": [],
   "source": [
    "for lp in range(100):\n",
    "    for w in range(env.w):\n",
    "        for h in range(env.h):            \n",
    "            A = action_values((w, h), value_est)\n",
    "            value_est[w][h] = np.max(A)\n",
    "            policy[w][h] = np.argmax(A)\n",
    "            #delta = max(delta, np.abs(best_action_value - Value_est[w][h]))      \n",
    "\n",
    "# for s in range(env.nS):\n",
    "#     A = one_step_lookahead(s, V)\n",
    "#     best_action = np.argmax(A)\n",
    "#     policy[s, best_action] = 1.0"
   ]
  },
  {
   "cell_type": "code",
   "execution_count": null,
   "metadata": {},
   "outputs": [],
   "source": []
  },
  {
   "cell_type": "code",
   "execution_count": null,
   "metadata": {},
   "outputs": [],
   "source": [
    "# These functions will show the value function and policy when the env is rendered.\n",
    "env.draw_values(value_est)\n",
    "env.draw_actions(policy)\n",
    "env.render()\n",
    "\n",
    "# Wait a while before starting to move\n",
    "sleep(3)\n",
    "done = False\n",
    "while not done:\n",
    "    # TODO: Use the computed policy here.\n",
    "    action = int(random.random()*env.NO_ACTIONS)\n",
    "    state, reward, done, _ = env.step(action)\n",
    "    env.render()\n",
    "    sleep(0.5)"
   ]
  },
  {
   "cell_type": "code",
   "execution_count": null,
   "metadata": {},
   "outputs": [],
   "source": []
  },
  {
   "cell_type": "code",
   "execution_count": null,
   "metadata": {},
   "outputs": [],
   "source": []
  }
 ],
 "metadata": {
  "kernelspec": {
   "display_name": "Python 3",
   "language": "python",
   "name": "python3"
  },
  "language_info": {
   "codemirror_mode": {
    "name": "ipython",
    "version": 3
   },
   "file_extension": ".py",
   "mimetype": "text/x-python",
   "name": "python",
   "nbconvert_exporter": "python",
   "pygments_lexer": "ipython3",
   "version": "3.6.6"
  }
 },
 "nbformat": 4,
 "nbformat_minor": 2
}
